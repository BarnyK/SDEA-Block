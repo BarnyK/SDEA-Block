{
 "cells": [
  {
   "cell_type": "code",
   "execution_count": 9,
   "metadata": {},
   "outputs": [],
   "source": [
    "import torch\n",
    "from torch import nn\n",
    "from time import time\n",
    "from tqdm import tqdm\n",
    "from SDEABlock import SDEABlock"
   ]
  },
  {
   "cell_type": "code",
   "execution_count": 10,
   "metadata": {},
   "outputs": [],
   "source": [
    "# Example for PSMNet layer usage\n",
    "class SDEALayer(nn.Module):\n",
    "    def __init__(self,in_channels,out_channels,max_disp):\n",
    "        super().__init__()\n",
    "        self.block0 = SDEABlock(in_channels,out_channels,max_disp)\n",
    "        self.block1 = SDEABlock(in_channels,out_channels,max_disp)\n",
    "        self.block2 = SDEABlock(in_channels,out_channels,max_disp)\n",
    "    def forward(self,left,right):\n",
    "        left,right = self.block0(left,right)\n",
    "        left,right = self.block1(left,right)\n",
    "        left,right = self.block2(left,right)\n",
    "        return left,right"
   ]
  },
  {
   "cell_type": "code",
   "execution_count": 11,
   "metadata": {},
   "outputs": [],
   "source": [
    "layer4 = SDEALayer(128,128,48)"
   ]
  },
  {
   "cell_type": "code",
   "execution_count": 12,
   "metadata": {},
   "outputs": [],
   "source": [
    "left = torch.rand(4,32,128,256)\n",
    "right = torch.rand(4,32,128,256)"
   ]
  }
 ],
 "metadata": {
  "interpreter": {
   "hash": "cf2e8a7357e3899b4038a0f6a173d4f8c179157a7f6360b9afc48edcea0c4b53"
  },
  "kernelspec": {
   "display_name": "Python 3.9.12 ('torch-env')",
   "language": "python",
   "name": "python3"
  },
  "language_info": {
   "codemirror_mode": {
    "name": "ipython",
    "version": 3
   },
   "file_extension": ".py",
   "mimetype": "text/x-python",
   "name": "python",
   "nbconvert_exporter": "python",
   "pygments_lexer": "ipython3",
   "version": "3.9.12"
  },
  "orig_nbformat": 4
 },
 "nbformat": 4,
 "nbformat_minor": 2
}
